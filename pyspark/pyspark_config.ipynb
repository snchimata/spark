{
  "nbformat": 4,
  "nbformat_minor": 0,
  "metadata": {
    "colab": {
      "name": "Colab's New Code Editor",
      "provenance": [],
      "collapsed_sections": [],
      "include_colab_link": true
    },
    "kernelspec": {
      "display_name": "Python 3",
      "name": "python3"
    }
  },
  "cells": [
    {
      "cell_type": "markdown",
      "metadata": {
        "id": "view-in-github",
        "colab_type": "text"
      },
      "source": [
        "<a href=\"https://colab.research.google.com/github/snchimata/spark/blob/master/pyspark/pyspark_config.ipynb\" target=\"_parent\"><img src=\"https://colab.research.google.com/assets/colab-badge.svg\" alt=\"Open In Colab\"/></a>"
      ]
    },
    {
      "cell_type": "markdown",
      "metadata": {
        "id": "aDuhlHz7gv_9",
        "colab_type": "text"
      },
      "source": [
        "#PySpark - Config"
      ]
    },
    {
      "cell_type": "code",
      "metadata": {
        "id": "96h__C5kgtGI",
        "colab_type": "code",
        "colab": {}
      },
      "source": [
        "!pip install pyspark"
      ],
      "execution_count": 0,
      "outputs": []
    },
    {
      "cell_type": "code",
      "metadata": {
        "id": "Dsru5C3Obcu5",
        "colab_type": "code",
        "colab": {}
      },
      "source": [
        "import pyspark\n",
        "from pyspark import SparkContext, SparkConf\n",
        "from pyspark.sql import SparkSession"
      ],
      "execution_count": 0,
      "outputs": []
    },
    {
      "cell_type": "markdown",
      "metadata": {
        "id": "sCRYGpnMg8PD",
        "colab_type": "text"
      },
      "source": [
        "###Style - 1"
      ]
    },
    {
      "cell_type": "code",
      "metadata": {
        "id": "54BZUg8Jcd5N",
        "colab_type": "code",
        "colab": {}
      },
      "source": [
        "sc = SparkSession.builder.appName(\"PysparkExample\")\\\n",
        ".config (\"spark.sql.shuffle.partitions\", \"50\")\\\n",
        ".config(\"spark.driver.maxResultSize\",\"5g\")\\\n",
        ".config (\"spark.sql.execution.arrow.enabled\", \"true\")\\\n",
        ".getOrCreate()"
      ],
      "execution_count": 0,
      "outputs": []
    },
    {
      "cell_type": "markdown",
      "metadata": {
        "id": "fOl9J2KAhAeN",
        "colab_type": "text"
      },
      "source": [
        "###Style - 2"
      ]
    },
    {
      "cell_type": "code",
      "metadata": {
        "id": "g2FQ07cScey7",
        "colab_type": "code",
        "colab": {}
      },
      "source": [
        "conf = {'memory':64, 'cores':24, 'partitions':24*20}\n",
        "def init_spark():\n",
        "    spark_conf = SparkConf()\n",
        "    spark_conf.setAppName('PysparkExample')\n",
        "    spark_conf.setMaster('local['+str(conf['partitions'])+']')\n",
        "    spark_conf.set('spark.executor.memory', str(floor(conf['memory']*0.9))+'G')\n",
        "    spark_conf.set('spark.driver.memory', str(ceil(conf['memory']*0.1))+'G')\n",
        "    spark_conf.set('spark.hadoop.validateOutputSpecs', 'false')\n",
        "    spark = SparkSession.builder.config(conf=spark_conf).getOrCreate()\n",
        "    spark.sparkContext.setLogLevel('ERROR')\n",
        "    return spark.sparkContext"
      ],
      "execution_count": 0,
      "outputs": []
    },
    {
      "cell_type": "code",
      "metadata": {
        "id": "7vsD9vLHe4ds",
        "colab_type": "code",
        "colab": {}
      },
      "source": [
        "sc = init_spark()"
      ],
      "execution_count": 0,
      "outputs": []
    }
  ]
}