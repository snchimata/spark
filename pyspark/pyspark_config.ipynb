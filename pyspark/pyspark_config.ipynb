{
  "nbformat": 4,
  "nbformat_minor": 0,
  "metadata": {
    "colab": {
      "name": "Colab's New Code Editor",
      "provenance": [],
      "collapsed_sections": [],
      "include_colab_link": true
    },
    "kernelspec": {
      "display_name": "Python 3",
      "name": "python3"
    }
  },
  "cells": [
    {
      "cell_type": "markdown",
      "metadata": {
        "id": "view-in-github",
        "colab_type": "text"
      },
      "source": [
        "<a href=\"https://colab.research.google.com/github/snchimata/spark/blob/master/pyspark/pyspark_config.ipynb\" target=\"_parent\"><img src=\"https://colab.research.google.com/assets/colab-badge.svg\" alt=\"Open In Colab\"/></a>"
      ]
    },
    {
      "cell_type": "markdown",
      "metadata": {
        "id": "aDuhlHz7gv_9",
        "colab_type": "text"
      },
      "source": [
        "#PySpark - Config"
      ]
    },
    {
      "cell_type": "code",
      "metadata": {
        "id": "96h__C5kgtGI",
        "colab_type": "code",
        "colab": {}
      },
      "source": [
        "!pip install pyspark"
      ],
      "execution_count": 0,
      "outputs": []
    },
    {
      "cell_type": "code",
      "metadata": {
        "id": "Dsru5C3Obcu5",
        "colab_type": "code",
        "colab": {}
      },
      "source": [
        "import pyspark\n",
        "from pyspark import SparkContext, SparkConf\n",
        "from pyspark.sql import SparkSession"
      ],
      "execution_count": 0,
      "outputs": []
    },
    {
      "cell_type": "markdown",
      "metadata": {
        "id": "sCRYGpnMg8PD",
        "colab_type": "text"
      },
      "source": [
        "###Style - 1"
      ]
    },
    {
      "cell_type": "code",
      "metadata": {
        "id": "54BZUg8Jcd5N",
        "colab_type": "code",
        "colab": {}
      },
      "source": [
        "sc = SparkSession.builder.appName(\"PysparkExample\")\\\n",
        ".config (\"spark.sql.shuffle.partitions\", \"50\")\\\n",
        ".config(\"spark.driver.maxResultSize\",\"5g\")\\\n",
        ".config (\"spark.sql.execution.arrow.enabled\", \"true\")\\\n",
        ".getOrCreate()"
      ],
      "execution_count": 0,
      "outputs": []
    },
    {
      "cell_type": "markdown",
      "metadata": {
        "id": "fOl9J2KAhAeN",
        "colab_type": "text"
      },
      "source": [
        "###Style - 2"
      ]
    },
    {
      "cell_type": "code",
      "metadata": {
        "id": "g2FQ07cScey7",
        "colab_type": "code",
        "colab": {}
      },
      "source": [
        "from math import ceil, floor\n",
        "conf = {'memory':64, 'cores':24, 'partitions':24*20}\n",
        "def init_spark():\n",
        "    spark_conf = SparkConf()\n",
        "    spark_conf.setAppName('PysparkExample')\n",
        "    spark_conf.setMaster('local['+str(conf['partitions'])+']')\n",
        "    spark_conf.set('spark.executor.memory', str(floor(conf['memory']*0.9))+'G')\n",
        "    spark_conf.set('spark.driver.memory', str(ceil(conf['memory']*0.1))+'G')\n",
        "    spark_conf.set('spark.hadoop.validateOutputSpecs', 'false')\n",
        "    spark_conf.set('spark.sql.execution.arrow.enabled', 'true')\n",
        "    spark = SparkSession.builder.config(conf=spark_conf).enableHiveSupport().getOrCreate()\n",
        "    spark.sparkContext.setLogLevel('ERROR')\n",
        "    return spark#.sparkContext"
      ],
      "execution_count": 0,
      "outputs": []
    },
    {
      "cell_type": "code",
      "metadata": {
        "id": "7vsD9vLHe4ds",
        "colab_type": "code",
        "colab": {}
      },
      "source": [
        "sc = init_spark()"
      ],
      "execution_count": 0,
      "outputs": []
    },
    {
      "cell_type": "code",
      "metadata": {
        "id": "U69AGJIBu64f",
        "colab_type": "code",
        "colab": {
          "base_uri": "https://localhost:8080/",
          "height": 306
        },
        "outputId": "3b5829c8-b2fd-4663-d472-978844b11026"
      },
      "source": [
        "sc.sparkContext._conf.getAll()"
      ],
      "execution_count": 63,
      "outputs": [
        {
          "output_type": "execute_result",
          "data": {
            "text/plain": [
              "[('spark.sql.execution.arrow.enabled', 'true'),\n",
              " ('spark.executor.id', 'driver'),\n",
              " ('spark.executor.memory', '57G'),\n",
              " ('spark.app.name', 'PysparkExample'),\n",
              " ('spark.driver.host', 'efd670872f4c'),\n",
              " ('spark.driver.maxResultSize', '5g'),\n",
              " ('spark.driver.memory', '7G'),\n",
              " ('spark.driver.port', '37315'),\n",
              " ('spark.sql.shuffle.partitions', '50'),\n",
              " ('spark.sql.catalogImplementation', 'hive'),\n",
              " ('spark.app.id', 'local-1579036620760'),\n",
              " ('spark.rdd.compress', 'True'),\n",
              " ('spark.hadoop.validateOutputSpecs', 'false'),\n",
              " ('spark.serializer.objectStreamReset', '100'),\n",
              " ('spark.submit.deployMode', 'client'),\n",
              " ('spark.master', 'local[480]'),\n",
              " ('spark.ui.showConsoleProgress', 'true')]"
            ]
          },
          "metadata": {
            "tags": []
          },
          "execution_count": 63
        }
      ]
    },
    {
      "cell_type": "code",
      "metadata": {
        "id": "qDu2jN4w6sxS",
        "colab_type": "code",
        "colab": {
          "base_uri": "https://localhost:8080/",
          "height": 204
        },
        "outputId": "fc8c921a-46e2-4d00-8fbd-36837038c7c4"
      },
      "source": [
        "from sklearn.datasets import load_iris\n",
        "import pandas as pd\n",
        "iris = load_iris()\n",
        "# Load iris into a dataframe and set the field names\n",
        "df = pd.DataFrame(iris['data'], columns=iris['feature_names'])\n",
        "df.head()"
      ],
      "execution_count": 51,
      "outputs": [
        {
          "output_type": "execute_result",
          "data": {
            "text/html": [
              "<div>\n",
              "<style scoped>\n",
              "    .dataframe tbody tr th:only-of-type {\n",
              "        vertical-align: middle;\n",
              "    }\n",
              "\n",
              "    .dataframe tbody tr th {\n",
              "        vertical-align: top;\n",
              "    }\n",
              "\n",
              "    .dataframe thead th {\n",
              "        text-align: right;\n",
              "    }\n",
              "</style>\n",
              "<table border=\"1\" class=\"dataframe\">\n",
              "  <thead>\n",
              "    <tr style=\"text-align: right;\">\n",
              "      <th></th>\n",
              "      <th>sepal length (cm)</th>\n",
              "      <th>sepal width (cm)</th>\n",
              "      <th>petal length (cm)</th>\n",
              "      <th>petal width (cm)</th>\n",
              "    </tr>\n",
              "  </thead>\n",
              "  <tbody>\n",
              "    <tr>\n",
              "      <th>0</th>\n",
              "      <td>5.1</td>\n",
              "      <td>3.5</td>\n",
              "      <td>1.4</td>\n",
              "      <td>0.2</td>\n",
              "    </tr>\n",
              "    <tr>\n",
              "      <th>1</th>\n",
              "      <td>4.9</td>\n",
              "      <td>3.0</td>\n",
              "      <td>1.4</td>\n",
              "      <td>0.2</td>\n",
              "    </tr>\n",
              "    <tr>\n",
              "      <th>2</th>\n",
              "      <td>4.7</td>\n",
              "      <td>3.2</td>\n",
              "      <td>1.3</td>\n",
              "      <td>0.2</td>\n",
              "    </tr>\n",
              "    <tr>\n",
              "      <th>3</th>\n",
              "      <td>4.6</td>\n",
              "      <td>3.1</td>\n",
              "      <td>1.5</td>\n",
              "      <td>0.2</td>\n",
              "    </tr>\n",
              "    <tr>\n",
              "      <th>4</th>\n",
              "      <td>5.0</td>\n",
              "      <td>3.6</td>\n",
              "      <td>1.4</td>\n",
              "      <td>0.2</td>\n",
              "    </tr>\n",
              "  </tbody>\n",
              "</table>\n",
              "</div>"
            ],
            "text/plain": [
              "   sepal length (cm)  sepal width (cm)  petal length (cm)  petal width (cm)\n",
              "0                5.1               3.5                1.4               0.2\n",
              "1                4.9               3.0                1.4               0.2\n",
              "2                4.7               3.2                1.3               0.2\n",
              "3                4.6               3.1                1.5               0.2\n",
              "4                5.0               3.6                1.4               0.2"
            ]
          },
          "metadata": {
            "tags": []
          },
          "execution_count": 51
        }
      ]
    },
    {
      "cell_type": "code",
      "metadata": {
        "id": "Y34pA40U679k",
        "colab_type": "code",
        "colab": {}
      },
      "source": [
        "sdf = sc.createDataFrame(df)"
      ],
      "execution_count": 0,
      "outputs": []
    },
    {
      "cell_type": "code",
      "metadata": {
        "id": "l4WgOVXt8VVz",
        "colab_type": "code",
        "colab": {
          "base_uri": "https://localhost:8080/",
          "height": 204
        },
        "outputId": "01e63322-dc36-4f55-ff33-2adb3647ad48"
      },
      "source": [
        "sdf.show(5)"
      ],
      "execution_count": 61,
      "outputs": [
        {
          "output_type": "stream",
          "text": [
            "+-----------------+----------------+-----------------+----------------+\n",
            "|sepal length (cm)|sepal width (cm)|petal length (cm)|petal width (cm)|\n",
            "+-----------------+----------------+-----------------+----------------+\n",
            "|              5.1|             3.5|              1.4|             0.2|\n",
            "|              4.9|             3.0|              1.4|             0.2|\n",
            "|              4.7|             3.2|              1.3|             0.2|\n",
            "|              4.6|             3.1|              1.5|             0.2|\n",
            "|              5.0|             3.6|              1.4|             0.2|\n",
            "+-----------------+----------------+-----------------+----------------+\n",
            "only showing top 5 rows\n",
            "\n"
          ],
          "name": "stdout"
        }
      ]
    },
    {
      "cell_type": "code",
      "metadata": {
        "id": "VTLqnPye82VZ",
        "colab_type": "code",
        "colab": {
          "base_uri": "https://localhost:8080/",
          "height": 34
        },
        "outputId": "03e3d7e6-516e-4ecf-da32-b2c8558adbb1"
      },
      "source": [
        "type(sdf)"
      ],
      "execution_count": 62,
      "outputs": [
        {
          "output_type": "execute_result",
          "data": {
            "text/plain": [
              "pyspark.sql.dataframe.DataFrame"
            ]
          },
          "metadata": {
            "tags": []
          },
          "execution_count": 62
        }
      ]
    },
    {
      "cell_type": "code",
      "metadata": {
        "id": "KL508QGqkuLP",
        "colab_type": "code",
        "colab": {}
      },
      "source": [
        "sc.stop()"
      ],
      "execution_count": 0,
      "outputs": []
    }
  ]
}